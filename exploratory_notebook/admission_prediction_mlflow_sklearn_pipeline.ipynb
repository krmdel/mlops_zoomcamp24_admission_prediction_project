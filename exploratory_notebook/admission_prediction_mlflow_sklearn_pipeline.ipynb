{
 "cells": [
  {
   "cell_type": "markdown",
   "id": "f22d0ee9-7b95-4bf6-bb45-9cfef7d6f613",
   "metadata": {},
   "source": [
    "# Importing Libraries"
   ]
  },
  {
   "cell_type": "code",
   "execution_count": 1,
   "id": "6bddf458-2423-4009-9f0f-97526182eadd",
   "metadata": {},
   "outputs": [],
   "source": [
    "import pandas as pd\n",
    "import os\n",
    "import pickle\n",
    "import numpy as np\n",
    "import warnings\n",
    "from datetime import datetime\n",
    "import time"
   ]
  },
  {
   "cell_type": "code",
   "execution_count": 2,
   "id": "7b2083e1-2f7d-4d7e-8868-85e0d40c8b32",
   "metadata": {},
   "outputs": [],
   "source": [
    "import mlflow\n",
    "from mlflow.exceptions import MlflowException\n",
    "\n",
    "from mlflow.tracking import MlflowClient\n",
    "\n",
    "from hyperopt import fmin, tpe, hp, STATUS_OK, Trials\n",
    "from hyperopt.pyll import scope"
   ]
  },
  {
   "cell_type": "code",
   "execution_count": 3,
   "id": "8ba656d6-a6d5-417d-b4c8-2419f1185c02",
   "metadata": {},
   "outputs": [],
   "source": [
    "import matplotlib.pyplot as plt"
   ]
  },
  {
   "cell_type": "code",
   "execution_count": 4,
   "id": "3da7748a-1758-44c9-81e1-779d4274248d",
   "metadata": {},
   "outputs": [],
   "source": [
    "import pandas as pd\n",
    "\n",
    "from sklearn.preprocessing import StandardScaler\n",
    "\n",
    "from sklearn.linear_model import LogisticRegression\n",
    "from sklearn.linear_model import SGDClassifier\n",
    "from sklearn.ensemble import RandomForestClassifier\n",
    "\n",
    "from sklearn.model_selection import train_test_split\n",
    "from sklearn.feature_extraction import DictVectorizer\n",
    "from sklearn.metrics import accuracy_score\n",
    "from sklearn.model_selection import cross_val_score\n",
    "\n",
    "from sklearn.pipeline import make_pipeline\n",
    "\n",
    "import xgboost as xgb\n",
    "\n",
    "import torch\n",
    "import torch.nn as nn\n",
    "import torch.optim as optim"
   ]
  },
  {
   "cell_type": "markdown",
   "id": "e028efc9-7305-4c3c-9d90-c9ba7d28dfe2",
   "metadata": {
    "jp-MarkdownHeadingCollapsed": true
   },
   "source": [
    "# Initiating MLflow"
   ]
  },
  {
   "cell_type": "code",
   "execution_count": 112,
   "id": "21be1c96-ce40-4f5e-b502-7644cc91d321",
   "metadata": {},
   "outputs": [],
   "source": [
    "TRACKING_SERVER_HOST = 'EC2_endpoint' # update the endpoint after reboot!!!\n",
    "\n",
    "# mlflow.set_tracking_uri(\"sqlite:///mlflow.db\") # for local machine\n",
    "mlflow.set_tracking_uri(f\"http://{TRACKING_SERVER_HOST}:5000\")\n",
    "model_name = \"xgboost_admission_prediction\"\n",
    "mlflow.set_experiment(model_name)\n",
    "\n",
    "# initiate Mlflowclient\n",
    "client = MlflowClient()"
   ]
  },
  {
   "cell_type": "code",
   "execution_count": 113,
   "id": "b055678e-4875-4b22-bac1-0cb6d8a48500",
   "metadata": {},
   "outputs": [
    {
     "name": "stdout",
     "output_type": "stream",
     "text": [
      "tracking URI: 'http://ec2-13-212-244-196.ap-southeast-1.compute.amazonaws.com:5000'\n"
     ]
    }
   ],
   "source": [
    "print(f\"tracking URI: '{mlflow.get_tracking_uri()}'\")"
   ]
  },
  {
   "cell_type": "code",
   "execution_count": 114,
   "id": "5836f8e7-d866-4ee5-9622-38ec5848562e",
   "metadata": {},
   "outputs": [
    {
     "data": {
      "text/plain": [
       "[<Experiment: artifact_location='s3://mlopszoomcamp24-mlflow-artifacts/5', creation_time=1723234445164, experiment_id='5', last_update_time=1723234445164, lifecycle_stage='active', name='xgboost_admission_prediction', tags={}>,\n",
       " <Experiment: artifact_location='s3://mlopszoomcamp24-mlflow-artifacts/3', creation_time=1723156401255, experiment_id='3', last_update_time=1723156401255, lifecycle_stage='active', name='admission_prediction', tags={}>,\n",
       " <Experiment: artifact_location='s3://mlopszoomcamp24-mlflow-artifacts/1', creation_time=1722006211099, experiment_id='1', last_update_time=1722006211099, lifecycle_stage='active', name='flight_delay_prediction', tags={}>]"
      ]
     },
     "execution_count": 114,
     "metadata": {},
     "output_type": "execute_result"
    }
   ],
   "source": [
    "mlflow.search_experiments()"
   ]
  },
  {
   "cell_type": "markdown",
   "id": "24ae4158-e854-4c7d-9e1c-31bf4eb662e2",
   "metadata": {
    "jp-MarkdownHeadingCollapsed": true
   },
   "source": [
    "# Defining Features"
   ]
  },
  {
   "cell_type": "code",
   "execution_count": 8,
   "id": "67b825e7-a15b-430b-a3c9-57d023493b1e",
   "metadata": {},
   "outputs": [],
   "source": [
    "path = \"../data/triage.csv\""
   ]
  },
  {
   "cell_type": "code",
   "execution_count": 9,
   "id": "4f8ff0ae-e5d6-41d6-84b4-bc07a84e6d07",
   "metadata": {},
   "outputs": [],
   "source": [
    "# Defining numerical and categorical features\n",
    "\n",
    "numerical_features = [\"age\", \"albumin_last\", \"albumin_max\", \"albumin_median\", \"albumin_min\", \"bloodculture,routine_count\",  \"bloodculture,routine_last\",\n",
    "                      \"bloodculture,routine_npos\", \"cc_abdominalcramping\", \"cc_abdominaldistention\", \"cc_abdominalpain\", \"cc_abdominalpainpregnant\",\n",
    "                      \"cc_allergicreaction\", \"cc_bleeding/bruising\", \"cc_breastpain\", \"cc_chestpain\", \"cc_confusion\", \"cc_diarrhea\",\n",
    "                      \"cc_dizziness\", \"cc_fall>65\", \"cc_fever\", \"cc_hallucinations\", \"cc_headache\", \"cc_hypertension\", \"cc_hypotension\",\n",
    "                      \"cc_irregularheartbeat\", \"cc_nausea\", \"cc_overdose-accidental\", \"cc_overdose-intentional\", \"cc_poisoning\", \"cc_rapidheartrate\",\n",
    "                      \"cc_rectalbleeding\", \"cc_strokealert\", \"cc_unresponsive\", \"cc_urinaryretention\", \"cktotal_last\", \"cktotal_max\",\n",
    "                      \"cktotal_median\", \"cktotal_min\", \"d-dimer_last\", \"d-dimer_max\", \"d-dimer_median\", \"d-dimer_min\", \"esi\", \"n_admissions\", \"n_edvisits\", \"n_surgeries\", \"platelets_last\", \"platelets_max\", \"platelets_median\", \"platelets_min\",\n",
    "                      \"rbc_last\", \"rbc_max\", \"rbc_median\", \"rbc_min\", \"triage_vital_dbp\", \"triage_vital_hr\", \"triage_vital_o2\",\n",
    "                      \"triage_vital_o2_device\", \"triage_vital_rr\", \"triage_vital_sbp\", \"triage_vital_temp\", \"troponini(poc)_last\", \"troponini(poc)_max\",\n",
    "                      \"troponini(poc)_median\", \"troponini(poc)_min\", \"troponint_last\", \"troponint_max\", \"troponint_median\", \"troponint_min\",\n",
    "                      \"urineculture,routine_count\", \"urineculture,routine_last\", \"urineculture,routine_npos\", \"viralinfect\", \"wbc_last\",\n",
    "                      \"wbc_max\", \"wbc_median\", \"wbc_min\"]\n",
    "\n",
    "categorical_features = ['arrivalmode', 'gender', 'previousdispo']\n",
    "\n",
    "target = 'disposition' # admit or discharge converted into 1 or 0"
   ]
  },
  {
   "cell_type": "markdown",
   "id": "05d675a9-c2dd-4827-b08e-13942fe9d161",
   "metadata": {
    "jp-MarkdownHeadingCollapsed": true
   },
   "source": [
    "# Defining Functions"
   ]
  },
  {
   "cell_type": "code",
   "execution_count": 117,
   "id": "ea6a5425-1058-4808-93c9-38ba589c16a5",
   "metadata": {},
   "outputs": [],
   "source": [
    "# Functions for data processing\n",
    "\n",
    "def df_prepare(path):\n",
    "    df = pd.read_csv(path)\n",
    "    df.columns = df.columns.str.lower().str.replace(' ', '_')\n",
    "    \n",
    "    categorical_columns = list(df.dtypes[df.dtypes == 'object'].index)\n",
    "    \n",
    "    for c in categorical_columns:\n",
    "        df[c] = df[c].str.lower().str.replace(' ', '_')\n",
    "        df[c] = df[c].str.replace(',', '')\n",
    "        df[c] = df[c].str.replace(':', '')\n",
    "\n",
    "    return df\n",
    "\n",
    "def prepare_dictionaries(df, numerical_features, categorical_features):\n",
    "    df[numerical_features] = df[numerical_features].fillna(0)\n",
    "    df = df.dropna(subset=categorical_features)\n",
    "    \n",
    "    # Use .loc to avoid SettingWithCopyWarning\n",
    "    df.loc[:, categorical_features] = df[categorical_features].astype(str)\n",
    "\n",
    "    return df[numerical_features + categorical_features].to_dict(orient='records')\n",
    "\n",
    "def split_dataset(path, numerical_features, categorical_features, target):\n",
    "    df = df_prepare(path)\n",
    "    \n",
    "    # Ensure consistent dropping of rows with missing data before splitting\n",
    "    df[numerical_features] = df[numerical_features].fillna(0)\n",
    "    df = df.dropna(subset=categorical_features + [target])\n",
    "    \n",
    "    train_df, temp_df = train_test_split(df, test_size=0.3, random_state=42)\n",
    "    valid_df, test_df = train_test_split(temp_df, test_size=0.333, random_state=42) # 0.333 * 0.3 ≈ 0.1\n",
    "\n",
    "    train_dicts = prepare_dictionaries(train_df, numerical_features, categorical_features)\n",
    "    valid_dicts = prepare_dictionaries(valid_df, numerical_features, categorical_features)\n",
    "    test_dicts = prepare_dictionaries(test_df, numerical_features, categorical_features)\n",
    "    \n",
    "    y_train = train_df[target].apply(lambda x: 1 if x == 'admit' else 0).values.astype(int)\n",
    "    y_valid = valid_df[target].apply(lambda x: 1 if x == 'admit' else 0).values.astype(int)\n",
    "    y_test = test_df[target].apply(lambda x: 1 if x == 'admit' else 0).values.astype(int)\n",
    "    \n",
    "    return train_dicts, y_train, valid_dicts, y_valid, test_dicts, y_test\n",
    "\n",
    "\n",
    "def train_and_log_xgboost(train_dicts, y_train, valid_dicts, y_valid, test_dicts, y_test, params):\n",
    "    with mlflow.start_run() as run:\n",
    "        mlflow.set_tag(\"model\", \"xgboost\")\n",
    "        \n",
    "        # Log the parameters\n",
    "        mlflow.log_params(params)\n",
    "        \n",
    "        # Create the pipeline with DictVectorizer and StandardScaler\n",
    "        pipeline = make_pipeline(\n",
    "            DictVectorizer(),\n",
    "            StandardScaler(with_mean=False),\n",
    "            xgb.XGBClassifier(**params)\n",
    "        )\n",
    "        \n",
    "        # Fit the pipeline on the training data\n",
    "        pipeline.fit(train_dicts, y_train)\n",
    "        \n",
    "        # Cross-validation accuracy on the training data\n",
    "        accuracies = cross_val_score(estimator=pipeline, X=train_dicts, y=y_train, cv=10)\n",
    "        cross_val_mean = accuracies.mean()\n",
    "        mlflow.log_metric(\"cross_val_mean_accuracy\", cross_val_mean)\n",
    "        \n",
    "        # Validation accuracy\n",
    "        y_valid_pred = pipeline.predict(valid_dicts)\n",
    "        valid_accuracy = accuracy_score(y_valid, y_valid_pred)\n",
    "        mlflow.log_metric(\"valid_accuracy\", valid_accuracy)\n",
    "        \n",
    "        # Test accuracy\n",
    "        y_test_pred = pipeline.predict(test_dicts)\n",
    "        test_accuracy = accuracy_score(y_test, y_test_pred)\n",
    "        mlflow.log_metric(\"test_accuracy\", test_accuracy)\n",
    "        \n",
    "        # Log the entire pipeline as a model\n",
    "        mlflow.sklearn.log_model(pipeline, \"xgboost_pipeline_model\")\n",
    "        \n",
    "        # Optionally, log the model with the XGBoost flavor as well\n",
    "        xgb_model = pipeline.named_steps['xgbclassifier']\n",
    "        mlflow.xgboost.log_model(xgb_model, artifact_path=\"xgboost_model\")\n",
    "\n",
    "        # Register the model\n",
    "        trained_model = f'{mlflow.search_experiments()[0].artifact_location}/{run.info.run_id}/artifacts/xgboost_pipeline_model'\n",
    "        registered_model = mlflow.register_model(model_uri=trained_model, name=model_name)\n",
    "        \n",
    "        # Wait for the model version to be created\n",
    "        latest_version = registered_model.version\n",
    "        \n",
    "        # Introduce a short delay to ensure the alias is properly assigned\n",
    "        time.sleep(5)\n",
    "        \n",
    "        # Optionally, tag the version with additional information\n",
    "        date = datetime.today().date()\n",
    "        client.set_model_version_tag(\n",
    "            name=model_name,\n",
    "            version=latest_version,\n",
    "            key=\"deployment_date\",\n",
    "            value=str(date)\n",
    "        )\n",
    "        \n",
    "        return valid_accuracy, test_accuracy, run.info.run_id\n"
   ]
  },
  {
   "cell_type": "markdown",
   "id": "d65182a0-2f9a-4ca8-81c4-31dd4d5cb1e7",
   "metadata": {
    "jp-MarkdownHeadingCollapsed": true
   },
   "source": [
    "# Data Processing"
   ]
  },
  {
   "cell_type": "code",
   "execution_count": 11,
   "id": "8bdc2bc9-9b63-4f3d-98a7-f514053ded06",
   "metadata": {},
   "outputs": [],
   "source": [
    "# Split the dataset to train/validation/test\n",
    "train_dicts, y_train, valid_dicts, y_valid, test_dicts, y_test = split_dataset(path, numerical_features, categorical_features, target)"
   ]
  },
  {
   "cell_type": "markdown",
   "id": "5ed95edc-8c3a-4215-82db-bdec427c73d4",
   "metadata": {
    "jp-MarkdownHeadingCollapsed": true
   },
   "source": [
    "# Model Training and Registry"
   ]
  },
  {
   "cell_type": "code",
   "execution_count": 103,
   "id": "8ba1fca0-c5b8-475f-a42d-3d67954cbd57",
   "metadata": {
    "scrolled": true
   },
   "outputs": [
    {
     "name": "stderr",
     "output_type": "stream",
     "text": [
      "2024/08/09 21:05:12 WARNING mlflow.utils.requirements_utils: Found lz4 version (3.1.3+dfsg) contains a local version label (+dfsg). MLflow logged a pip requirement for this package as 'lz4==3.1.3' without the local version label to make it installable from PyPI. To specify pip requirements containing local version labels, please use `conda_env` or `pip_requirements`.\n",
      "/home/ubuntu/.local/lib/python3.10/site-packages/xgboost/core.py:158: UserWarning: [21:05:13] WARNING: /workspace/src/c_api/c_api.cc:1374: Saving model in the UBJSON format as default.  You can use file extension: `json`, `ubj` or `deprecated` to choose between formats.\n",
      "  warnings.warn(smsg, UserWarning)\n",
      "2024/08/09 21:05:15 WARNING mlflow.utils.requirements_utils: Found lz4 version (3.1.3+dfsg) contains a local version label (+dfsg). MLflow logged a pip requirement for this package as 'lz4==3.1.3' without the local version label to make it installable from PyPI. To specify pip requirements containing local version labels, please use `conda_env` or `pip_requirements`.\n"
     ]
    }
   ],
   "source": [
    "# training XGBoost with best param\n",
    "best_param = {\n",
    "    \"objective\": 'binary:logistic',\n",
    "    \"n_estimators\": 100,\n",
    "    \"max_depth\": 8,\n",
    "    \"learning_rate\": 0.19,\n",
    "    \"min_child_weight\": 5.0,\n",
    "    \"gamma\": 0.32,\n",
    "    \"subsample\": 0.79,\n",
    "    \"colsample_bytree\": 0.85\n",
    "}\n",
    "\n",
    "xgb_val, xgb_test, xgb_run_id = train_and_log_xgboost(train_dicts, y_train, valid_dicts, y_valid, test_dicts, y_test)"
   ]
  },
  {
   "cell_type": "code",
   "execution_count": 118,
   "id": "bbd16752-0311-4ee3-a4f4-12158659526a",
   "metadata": {},
   "outputs": [],
   "source": [
    "# XGBoost parameters\n",
    "params1 = {\n",
    "    \"objective\": 'binary:logistic',\n",
    "    \"n_estimators\": 100,\n",
    "    \"max_depth\": 8,\n",
    "    \"learning_rate\": 0.19,\n",
    "    \"min_child_weight\": 5.0,\n",
    "    \"gamma\": 0.32,\n",
    "    \"subsample\": 0.79,\n",
    "    \"colsample_bytree\": 0.85\n",
    "}\n",
    "\n",
    "params2 = {\n",
    "    \"objective\": 'binary:logistic',\n",
    "    \"n_estimators\": 100,\n",
    "    \"max_depth\": 0,\n",
    "    \"learning_rate\": 0.19,\n",
    "    \"min_child_weight\": 5.0,\n",
    "    \"gamma\": 0.32,\n",
    "    \"subsample\": 0.79,\n",
    "    \"colsample_bytree\": 0.85\n",
    "}\n",
    "\n",
    "params3 = {\n",
    "    \"objective\": 'binary:logistic',\n",
    "    \"n_estimators\": 100,\n",
    "    \"max_depth\": 8,\n",
    "    \"learning_rate\": 0.8,\n",
    "    \"min_child_weight\": 5.0,\n",
    "    \"gamma\": 0.32,\n",
    "    \"subsample\": 0.79,\n",
    "    \"colsample_bytree\": 0.85\n",
    "}"
   ]
  },
  {
   "cell_type": "code",
   "execution_count": 119,
   "id": "91591d72-02f7-41bb-be9c-b9261f9b331f",
   "metadata": {
    "scrolled": true
   },
   "outputs": [
    {
     "name": "stderr",
     "output_type": "stream",
     "text": [
      "2024/08/09 21:15:30 WARNING mlflow.utils.requirements_utils: Found lz4 version (3.1.3+dfsg) contains a local version label (+dfsg). MLflow logged a pip requirement for this package as 'lz4==3.1.3' without the local version label to make it installable from PyPI. To specify pip requirements containing local version labels, please use `conda_env` or `pip_requirements`.\n",
      "/home/ubuntu/.local/lib/python3.10/site-packages/xgboost/core.py:158: UserWarning: [21:15:30] WARNING: /workspace/src/c_api/c_api.cc:1374: Saving model in the UBJSON format as default.  You can use file extension: `json`, `ubj` or `deprecated` to choose between formats.\n",
      "  warnings.warn(smsg, UserWarning)\n",
      "2024/08/09 21:15:32 WARNING mlflow.utils.requirements_utils: Found lz4 version (3.1.3+dfsg) contains a local version label (+dfsg). MLflow logged a pip requirement for this package as 'lz4==3.1.3' without the local version label to make it installable from PyPI. To specify pip requirements containing local version labels, please use `conda_env` or `pip_requirements`.\n",
      "Successfully registered model 'xgboost_admission_prediction'.\n",
      "2024/08/09 21:15:32 INFO mlflow.store.model_registry.abstract_store: Waiting up to 300 seconds for model version to finish creation. Model name: xgboost_admission_prediction, version 1\n",
      "Created version '1' of model 'xgboost_admission_prediction'.\n",
      "2024/08/09 21:21:07 WARNING mlflow.utils.requirements_utils: Found lz4 version (3.1.3+dfsg) contains a local version label (+dfsg). MLflow logged a pip requirement for this package as 'lz4==3.1.3' without the local version label to make it installable from PyPI. To specify pip requirements containing local version labels, please use `conda_env` or `pip_requirements`.\n",
      "/home/ubuntu/.local/lib/python3.10/site-packages/xgboost/core.py:158: UserWarning: [21:21:08] WARNING: /workspace/src/c_api/c_api.cc:1374: Saving model in the UBJSON format as default.  You can use file extension: `json`, `ubj` or `deprecated` to choose between formats.\n",
      "  warnings.warn(smsg, UserWarning)\n",
      "2024/08/09 21:21:10 WARNING mlflow.utils.requirements_utils: Found lz4 version (3.1.3+dfsg) contains a local version label (+dfsg). MLflow logged a pip requirement for this package as 'lz4==3.1.3' without the local version label to make it installable from PyPI. To specify pip requirements containing local version labels, please use `conda_env` or `pip_requirements`.\n",
      "Registered model 'xgboost_admission_prediction' already exists. Creating a new version of this model...\n",
      "2024/08/09 21:21:10 INFO mlflow.store.model_registry.abstract_store: Waiting up to 300 seconds for model version to finish creation. Model name: xgboost_admission_prediction, version 2\n",
      "Created version '2' of model 'xgboost_admission_prediction'.\n",
      "2024/08/09 21:24:32 WARNING mlflow.utils.requirements_utils: Found lz4 version (3.1.3+dfsg) contains a local version label (+dfsg). MLflow logged a pip requirement for this package as 'lz4==3.1.3' without the local version label to make it installable from PyPI. To specify pip requirements containing local version labels, please use `conda_env` or `pip_requirements`.\n",
      "/home/ubuntu/.local/lib/python3.10/site-packages/xgboost/core.py:158: UserWarning: [21:24:32] WARNING: /workspace/src/c_api/c_api.cc:1374: Saving model in the UBJSON format as default.  You can use file extension: `json`, `ubj` or `deprecated` to choose between formats.\n",
      "  warnings.warn(smsg, UserWarning)\n",
      "2024/08/09 21:24:34 WARNING mlflow.utils.requirements_utils: Found lz4 version (3.1.3+dfsg) contains a local version label (+dfsg). MLflow logged a pip requirement for this package as 'lz4==3.1.3' without the local version label to make it installable from PyPI. To specify pip requirements containing local version labels, please use `conda_env` or `pip_requirements`.\n",
      "Registered model 'xgboost_admission_prediction' already exists. Creating a new version of this model...\n",
      "2024/08/09 21:24:34 INFO mlflow.store.model_registry.abstract_store: Waiting up to 300 seconds for model version to finish creation. Model name: xgboost_admission_prediction, version 3\n",
      "Created version '3' of model 'xgboost_admission_prediction'.\n"
     ]
    }
   ],
   "source": [
    "for param in [params1, params2, params3]:\n",
    "    xgb_val, xgb_test, xgb_run_id = train_and_log_xgboost(train_dicts, y_train, valid_dicts, y_valid, test_dicts, y_test, params=param)"
   ]
  },
  {
   "cell_type": "markdown",
   "id": "1548e216-24e6-4487-abf8-221a8de2a1e9",
   "metadata": {
    "jp-MarkdownHeadingCollapsed": true
   },
   "source": [
    "# Testing Trained Models And Promoting The Best Performing For Production"
   ]
  },
  {
   "cell_type": "code",
   "execution_count": null,
   "id": "bac75200-d82e-4986-b84f-f37f70eca39c",
   "metadata": {
    "scrolled": true
   },
   "outputs": [],
   "source": [
    "# Function to test a model version with a pipeline\n",
    "def test_model(logged_model, test_dicts, y_test):\n",
    "    try:\n",
    "        # Load the model as a pipeline from the given URI\n",
    "        pipeline = mlflow.sklearn.load_model(logged_model)\n",
    "        \n",
    "        # Make predictions on the test data\n",
    "        y_test_pred = pipeline.predict(test_dicts)\n",
    "        \n",
    "        # Calculate test accuracy\n",
    "        test_accuracy = accuracy_score(y_test, y_test_pred)\n",
    "        print(f\"Model URI: {logged_model} - Accuracy: {test_accuracy}\")\n",
    "        return test_accuracy\n",
    "    except MlflowException as e:\n",
    "        print(f\"Model URI: {logged_model} not found: {e}\")\n",
    "        return 0\n",
    "\n",
    "# Initialize MLflow client\n",
    "client = MlflowClient()\n",
    "\n",
    "# List all model versions and test their accuracy\n",
    "versions = client.search_model_versions(f\"name='{model_name}'\")\n",
    "accuracies = {}\n",
    "for version in versions:\n",
    "    # Get the source URI of the model version\n",
    "    model_uri = version.source\n",
    "    \n",
    "    # Test the model and store its accuracy\n",
    "    accuracy = test_model(logged_model=model_uri, test_dicts=test_dicts, y_test=y_test)\n",
    "    accuracies[version.version] = accuracy\n",
    "\n",
    "# Determine the best version\n",
    "best_version = max(accuracies, key=accuracies.get)\n",
    "best_accuracy = accuracies[best_version]\n",
    "\n",
    "# Update aliases\n",
    "for version in versions:\n",
    "    if version.version == best_version:\n",
    "        client.set_registered_model_alias(\n",
    "            name=model_name,\n",
    "            alias=\"Production\",\n",
    "            version=version.version\n",
    "        )\n",
    "        client.update_model_version(\n",
    "            name=model_name,\n",
    "            version=version.version,\n",
    "            description=f\"The model version {version.version} was assigned alias 'Production' on {date} with accuracy {best_accuracy}\"\n",
    "        )\n",
    "        print(f\"Set alias 'Production' for model version {version.version}\")\n",
    "    else:\n",
    "        client.set_registered_model_alias(\n",
    "            name=model_name,\n",
    "            alias=\"Staging\",\n",
    "            version=version.version\n",
    "        )\n",
    "        print(f\"Set alias 'Staging' for model version {version.version}\")\n",
    "\n",
    "# Print final accuracies and versions\n",
    "print(\"Model Accuracies:\", accuracies)\n",
    "print(f\"Best Model Version: {best_version} with Accuracy: {best_accuracy}\")"
   ]
  }
 ],
 "metadata": {
  "kernelspec": {
   "display_name": "Python 3 (ipykernel)",
   "language": "python",
   "name": "python3"
  },
  "language_info": {
   "codemirror_mode": {
    "name": "ipython",
    "version": 3
   },
   "file_extension": ".py",
   "mimetype": "text/x-python",
   "name": "python",
   "nbconvert_exporter": "python",
   "pygments_lexer": "ipython3",
   "version": "3.10.12"
  }
 },
 "nbformat": 4,
 "nbformat_minor": 5
}
